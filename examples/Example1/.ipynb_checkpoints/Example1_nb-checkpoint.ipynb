{
 "cells": [
  {
   "cell_type": "markdown",
   "metadata": {},
   "source": [
    "# Example 1: Falling Ball"
   ]
  },
  {
   "cell_type": "markdown",
   "metadata": {},
   "source": [
    "To illustrate how to use `emulator` class, we will start with a very simple example of a falling ball. In this example, we emulate the simulation output using only a computer code--a simulator-- data via methods `PCGP` and `PCGPwM`.\n",
    "\n",
    "First, import the main libraries used for this example."
   ]
  },
  {
   "cell_type": "code",
   "execution_count": 1,
   "metadata": {},
   "outputs": [],
   "source": [
    "import numpy as np\n",
    "import scipy.stats as sps\n",
    "import sys\n",
    "import os\n",
    "current = os.path.abspath(os.getcwd())\n",
    "sys.path.append(os.path.normpath(os.path.join(os.path.dirname(current), '..')))\n",
    "from base.emulation import emulator"
   ]
  },
  {
   "cell_type": "markdown",
   "metadata": {},
   "source": [
    "## Computer model experiments"
   ]
  },
  {
   "cell_type": "markdown",
   "metadata": {},
   "source": [
    "What does physics say? The gravitational force causes objects to have the acceleration $g$ downward, so the height $h$ is given by $h = h_0 − \\frac{1}{2} gt^2$ where $h_0$ is the initial height and $t$ is the time to hit $h$. To describe the behaviour of falling objects, we use a compter code to simulate an experiment with three inputs:\n",
    "\n",
    "* time $t$, \n",
    "* initial height $h_0$, and \n",
    "* gravity $g$.  \n",
    "\n",
    "Here, $x = (t, h_0)$ represents the input conditions of the experiment and $\\theta = g$ is the parameter to be calibrated."
   ]
  },
  {
   "cell_type": "code",
   "execution_count": 2,
   "metadata": {},
   "outputs": [],
   "source": [
    "def balldropmodel_grav(x, theta):\n",
    "    \"\"\"Place description here.\"\"\"\n",
    "    f = np.zeros((theta.shape[0], x.shape[0]))\n",
    "    for k in range(0, theta.shape[0]):\n",
    "        t = x[:, 0]\n",
    "        h0 = x[:, 1]\n",
    "        g = theta[k]\n",
    "        f[k, :] = h0 - (g / 2) * (t ** 2)\n",
    "    return f.T"
   ]
  },
  {
   "cell_type": "code",
   "execution_count": 3,
   "metadata": {},
   "outputs": [],
   "source": [
    "def balldropmodel_linear(x, theta):\n",
    "    \"\"\"Place description here.\"\"\"\n",
    "    f = np.zeros((theta.shape[0], x.shape[0]))\n",
    "    for k in range(0, theta.shape[0]):\n",
    "        t = x[:, 0]\n",
    "        h0 = x[:, 1] + theta[k, 0]\n",
    "        vter = theta[k, 1]\n",
    "        f[k, :] = h0 - vter * t\n",
    "    return f.T"
   ]
  },
  {
   "cell_type": "markdown",
   "metadata": {},
   "source": [
    "Next, we consider the computer model implementation of our mathematical model on an input grid $t \\in [0.1, 4.2]$ and $h_0 \\in \\{25, 50\\}$. To do so, we generate the input $m \\times p$ matrix $x$, where $m = 84$ and $p = 2$."
   ]
  },
  {
   "cell_type": "code",
   "execution_count": 4,
   "metadata": {},
   "outputs": [
    {
     "name": "stdout",
     "output_type": "stream",
     "text": [
      "(84, 2)\n"
     ]
    }
   ],
   "source": [
    "# the time vector of interest\n",
    "tvec = np.concatenate((np.arange(0.1, 4.3, 0.1), np.arange(0.1, 4.3, 0.1))) \n",
    "\n",
    "# the drop heights vector of interest\n",
    "hvec = np.concatenate((25 * np.ones(42), 50 * np.ones(42)))  \n",
    "\n",
    "# the input of interest\n",
    "xtot = (np.vstack((tvec, hvec)).T).astype('object')  \n",
    "xtotv = xtot.astype('float')\n",
    "xtot[xtot[:,1] == 25, 1] = 'lowdrop'\n",
    "xtot[xtot[:,1] == 50, 1] = 'highdrop'\n",
    "\n",
    "print(np.shape(xtot))"
   ]
  },
  {
   "cell_type": "markdown",
   "metadata": {},
   "source": [
    "We assume that the researcher has a prior knowledge about the unknown parameters in the form of a prior distribution. "
   ]
  },
  {
   "cell_type": "code",
   "execution_count": 5,
   "metadata": {},
   "outputs": [],
   "source": [
    "class priorphys_lin:\n",
    "    \"\"\" This defines the class instance of priors provided to the method. \"\"\"\n",
    "    def lpdf(theta):\n",
    "        return np.squeeze(sps.norm.logpdf(theta[:, 0], 0, 5) +  # initial height deviation\n",
    "                          sps.gamma.logpdf(theta[:, 1], 2, 0, 10))   # terminal velocity\n",
    "\n",
    "    def rnd(n):\n",
    "        return np.vstack((sps.norm.rvs(0, 5, size=n),  # initial height deviation\n",
    "                          sps.gamma.rvs(2, 0, 10, size=n))).T  # terminal velocity\n"
   ]
  },
  {
   "cell_type": "code",
   "execution_count": 6,
   "metadata": {},
   "outputs": [],
   "source": [
    "class priorphys_grav:\n",
    "    \"\"\" This defines the class instance of priors provided to the method. \"\"\"\n",
    "    def lpdf(theta):\n",
    "        return np.squeeze(sps.gamma.logpdf(theta, 2, 0, 5))  # gravity\n",
    "\n",
    "    def rnd(n):\n",
    "        return np.reshape(sps.gamma.rvs(2, 0, 5, size=n), (-1,1))  # gravity"
   ]
  },
  {
   "cell_type": "code",
   "execution_count": null,
   "metadata": {},
   "outputs": [],
   "source": []
  },
  {
   "cell_type": "code",
   "execution_count": 7,
   "metadata": {},
   "outputs": [
    {
     "name": "stdout",
     "output_type": "stream",
     "text": [
      "(50, 2)\n",
      "(50, 1)\n"
     ]
    }
   ],
   "source": [
    "# draw 50 random parameters from the prior\n",
    "thetacompexp_lin = priorphys_lin.rnd(50)  \n",
    "print(np.shape(thetacompexp_lin))\n",
    "\n",
    "# draw 50 random parameters from the prior\n",
    "thetacompexp_grav = priorphys_grav.rnd(50) \n",
    "print(np.shape(thetacompexp_grav))"
   ]
  },
  {
   "cell_type": "code",
   "execution_count": 8,
   "metadata": {},
   "outputs": [
    {
     "name": "stdout",
     "output_type": "stream",
     "text": [
      "(84, 50)\n",
      "(84, 50)\n"
     ]
    }
   ],
   "source": [
    "# the value of the linear simulation\n",
    "lin_results = balldropmodel_linear(xtotv, thetacompexp_lin) \n",
    "print(np.shape(linear_results))\n",
    "\n",
    "# the value of the gravity simulation\n",
    "grav_results = balldropmodel_grav(xtotv, thetacompexp_grav)  \n",
    "print(np.shape(grav_results))"
   ]
  },
  {
   "cell_type": "markdown",
   "metadata": {},
   "source": [
    "## Building an emulator via `PCGP` and `PCGPwM` "
   ]
  },
  {
   "cell_type": "markdown",
   "metadata": {},
   "source": [
    "In this section, we build two emulators with methods `PCGP` and `PCGPwM`. First, we build an emulator for the linear simulation:"
   ]
  },
  {
   "cell_type": "code",
   "execution_count": 9,
   "metadata": {},
   "outputs": [
    {
     "name": "stdout",
     "output_type": "stream",
     "text": [
      "Function supplementtheta not found in module!\n",
      "no of pcs: 2\n"
     ]
    }
   ],
   "source": [
    "emu_lin_1 = emulator(xtot, thetacompexp_lin, lin_results, method = 'PCGP_ozge', args = {'is_pca': True}) "
   ]
  },
  {
   "cell_type": "code",
   "execution_count": 10,
   "metadata": {},
   "outputs": [],
   "source": [
    "emu_lin_2 = emulator(xtot, thetacompexp_lin, lin_results, method = 'PCGPwM') "
   ]
  },
  {
   "cell_type": "markdown",
   "metadata": {},
   "source": [
    "Build an emulator for the gravity simulation:"
   ]
  },
  {
   "cell_type": "code",
   "execution_count": 11,
   "metadata": {},
   "outputs": [
    {
     "name": "stdout",
     "output_type": "stream",
     "text": [
      "Function supplementtheta not found in module!\n",
      "no of pcs: 2\n"
     ]
    }
   ],
   "source": [
    "emu_grav_1 = emulator(xtot, thetacompexp_grav, grav_results, method = 'PCGP_ozge', args = {'is_pca': True})"
   ]
  },
  {
   "cell_type": "code",
   "execution_count": 12,
   "metadata": {},
   "outputs": [],
   "source": [
    "emu_grav_2 = emulator(xtot, thetacompexp_grav, grav_results, method = 'PCGPwM')  "
   ]
  },
  {
   "cell_type": "markdown",
   "metadata": {},
   "source": [
    "## Comparison of emulation methodologies"
   ]
  },
  {
   "cell_type": "code",
   "execution_count": 13,
   "metadata": {},
   "outputs": [],
   "source": [
    "# (Test) draw 50 random parameters from the prior\n",
    "thetacompexp_lin_test = priorphys_lin.rnd(50)  \n",
    "\n",
    "# (Test) draw 50 random parameters from the prior\n",
    "thetacompexp_grav_test = priorphys_grav.rnd(50) \n",
    "\n",
    "# (Test) the value of the linear simulation\n",
    "lin_results_test = balldropmodel_linear(xtotv, thetacompexp_lin_test) \n",
    "\n",
    "# (Test) the value of the gravity simulation\n",
    "grav_results_test = balldropmodel_grav(xtotv, thetacompexp_grav_test)  "
   ]
  },
  {
   "cell_type": "code",
   "execution_count": 15,
   "metadata": {},
   "outputs": [],
   "source": [
    "pred_lin_1 = emu_lin_1.predict(xtot, thetacompexp_lin_test)\n",
    "pred_lin_2 = emu_lin_2.predict(xtot, thetacompexp_lin_test)\n",
    "\n",
    "pred_grav_1 = emu_grav_1.predict(xtot, thetacompexp_grav_test)\n",
    "pred_grav_2 = emu_grav_2.predict(xtot, thetacompexp_grav_test)"
   ]
  },
  {
   "cell_type": "code",
   "execution_count": 18,
   "metadata": {},
   "outputs": [
    {
     "name": "stdout",
     "output_type": "stream",
     "text": [
      "(84, 50)\n",
      "(84, 50)\n",
      "(84, 50)\n",
      "(84, 50)\n"
     ]
    }
   ],
   "source": [
    "pred_lin_1_m = pred_lin_1.mean()\n",
    "pred_lin_2_m = pred_lin_2.mean()\n",
    "pred_grav_1_m = pred_grav_1.mean()\n",
    "pred_grav_2_m = pred_grav_2.mean()\n",
    "print(np.shape(pred_lin_1_m))\n",
    "print(np.shape(pred_lin_2_m))\n",
    "print(np.shape(pred_grav_1_m))\n",
    "print(np.shape(pred_grav_2_m))"
   ]
  },
  {
   "cell_type": "code",
   "execution_count": 21,
   "metadata": {},
   "outputs": [
    {
     "name": "stdout",
     "output_type": "stream",
     "text": [
      "299.63038956837374\n",
      "4.611905974352166\n",
      "171.22750528139383\n",
      "1.0528406589683814\n"
     ]
    }
   ],
   "source": [
    "print(np.sum((pred_lin_1_m - linear_results_test)**2))\n",
    "print(np.sum((pred_lin_2_m - linear_results_test)**2))\n",
    "print(np.sum((pred_grav_1_m - grav_results_test)**2))\n",
    "print(np.sum((pred_grav_2_m - grav_results_test)**2))"
   ]
  },
  {
   "cell_type": "code",
   "execution_count": null,
   "metadata": {},
   "outputs": [],
   "source": []
  }
 ],
 "metadata": {
  "kernelspec": {
   "display_name": "Python 3",
   "language": "python",
   "name": "python3"
  },
  "language_info": {
   "codemirror_mode": {
    "name": "ipython",
    "version": 3
   },
   "file_extension": ".py",
   "mimetype": "text/x-python",
   "name": "python",
   "nbconvert_exporter": "python",
   "pygments_lexer": "ipython3",
   "version": "3.7.9"
  }
 },
 "nbformat": 4,
 "nbformat_minor": 2
}
