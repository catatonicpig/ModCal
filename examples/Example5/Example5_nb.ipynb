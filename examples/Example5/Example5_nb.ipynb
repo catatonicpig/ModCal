{
 "cells": [
  {
   "cell_type": "markdown",
   "metadata": {},
   "source": [
    "# Example 5: ML adjusted calibrator"
   ]
  },
  {
   "cell_type": "markdown",
   "metadata": {},
   "source": [
    "## Example 5.1: Dropping ball example"
   ]
  },
  {
   "cell_type": "code",
   "execution_count": 1,
   "metadata": {},
   "outputs": [],
   "source": [
    "import numpy as np\n",
    "import sys\n",
    "import os\n",
    "from matplotlib import pyplot as plt\n",
    "import scipy.stats as sps\n",
    "current = os.path.abspath(os.getcwd())\n",
    "sys.path.append(os.path.normpath(os.path.join(os.path.dirname(current), '..')))\n",
    "from base.emulation import emulator\n",
    "from base.calibration import calibrator"
   ]
  },
  {
   "cell_type": "code",
   "execution_count": 2,
   "metadata": {},
   "outputs": [],
   "source": [
    "# Read the data\n",
    "ball = np.loadtxt('ball.csv', delimiter=',')\n",
    "n = len(ball)\n",
    "#height\n",
    "X = np.reshape(ball[:, 0], (n, 1))\n",
    "X = X[0:21]\n",
    "#time\n",
    "Y = np.reshape(ball[:, 1], ((n, 1)))\n",
    "# This is a stochastic one but we convert it deterministic by taking the average height\n",
    "Ysplit = np.split(Y, 3)\n",
    "ysum = 0\n",
    "for y in  Ysplit:\n",
    "    ysum += y \n",
    "obsvar = np.maximum(0.2*X, 0.5)\n",
    "Y = ysum/3\n",
    "\n",
    "# Computer implementation of the mathematical model\n",
    "def timedrop(x, theta, hr, gr):\n",
    "    # Assume x and theta are within (0, 1)\n",
    "    min_g = min(gr)\n",
    "    range_g = max(gr) - min(gr)\n",
    "    min_h = min(hr)\n",
    "    range_h = max(hr) - min(hr)\n",
    "    f = np.zeros((theta.shape[0], x.shape[0]))\n",
    "    for k in range(0, theta.shape[0]):\n",
    "        g = range_g*theta[k] + min_g\n",
    "        h = range_h*x + min(hr)\n",
    "        f[k, :] = np.sqrt(2*h/g).reshape(x.shape[0])\n",
    "    return f.T\n",
    "\n",
    "# Draw 100 random parameters from uniform prior\n",
    "n2 = 100\n",
    "theta = np.random.random(n2).reshape((n2, 1))\n",
    "theta_range = np.array([1, 30])\n",
    "\n",
    "# Standardize \n",
    "height_range = np.array([min(X), max(X)])\n",
    "X_std = (X - min(X))/(max(X) - min(X))\n",
    "\n",
    "# Obtain computer model output\n",
    "Y_model = timedrop(X_std, theta, height_range, theta_range)\n",
    "\n",
    "class prior_balldrop:\n",
    "    \"\"\" This defines the class instance of priors provided to the method. \"\"\"\n",
    "    def lpdf(theta):\n",
    "        return np.squeeze(sps.uniform.logpdf(theta, 0, 1))\n",
    "\n",
    "    def rnd(n):\n",
    "        return np.vstack((sps.uniform.rvs(0, 1, size=n)))"
   ]
  },
  {
   "cell_type": "markdown",
   "metadata": {},
   "source": [
    "### Filtering data"
   ]
  },
  {
   "cell_type": "code",
   "execution_count": 3,
   "metadata": {},
   "outputs": [
    {
     "name": "stdout",
     "output_type": "stream",
     "text": [
      "(29, 1)\n"
     ]
    }
   ],
   "source": [
    "# Filter out the data\n",
    "ys = 1 - np.sum((Y_model - Y)**2, 0)/np.sum((Y - np.mean(Y))**2, 0)\n",
    "theta_f = theta[ys > 0.5]\n",
    "print(theta_f.shape)"
   ]
  },
  {
   "cell_type": "code",
   "execution_count": 4,
   "metadata": {},
   "outputs": [
    {
     "name": "stdout",
     "output_type": "stream",
     "text": [
      "(21, 29)\n"
     ]
    }
   ],
   "source": [
    "# Obtain computer model output via filtered data\n",
    "Y_model = timedrop(X_std, theta_f, height_range, theta_range)\n",
    "print(np.shape(Y_model))"
   ]
  },
  {
   "cell_type": "markdown",
   "metadata": {},
   "source": [
    "### Fitting emulators via filtered data"
   ]
  },
  {
   "cell_type": "code",
   "execution_count": 5,
   "metadata": {},
   "outputs": [
    {
     "name": "stdout",
     "output_type": "stream",
     "text": [
      "Function supplementtheta not found in module!\n",
      "no of pcs: 2\n"
     ]
    }
   ],
   "source": [
    "# Fit an emulator via filtered data\n",
    "emulator_f_1 = emulator(X_std, theta_f, Y_model, method = 'PCGPwM')\n",
    "# Fit an emulator via filtered data\n",
    "emulator_f_2 = emulator(X_std, theta_f, Y_model, method = 'PCGP_ozge', args = {'is_pca': True})"
   ]
  },
  {
   "cell_type": "code",
   "execution_count": 6,
   "metadata": {},
   "outputs": [
    {
     "name": "stdout",
     "output_type": "stream",
     "text": [
      "(255, 1)\n",
      "(21, 255)\n",
      "SSE =  1.2704097233923886e-06\n",
      "SSE =  0.027036834375011552\n",
      "Rsq =  0.9999999583360296\n",
      "Rsq =  0.9991133082131739\n"
     ]
    }
   ],
   "source": [
    "#Generate random reasonable theta values\n",
    "theta_test = np.random.random(1000).reshape((1000, 1))\n",
    "theta_test = theta_test[(theta_test > 0.2) & (theta_test < 0.5)]\n",
    "theta_test = theta_test.reshape(len(theta_test), 1)\n",
    "theta_range = np.array([1, 30])\n",
    "print(np.shape(theta_test))\n",
    "\n",
    "# Obtain computer model output\n",
    "Y_model_test = timedrop(X_std, theta_test, height_range, theta_range)\n",
    "print(np.shape(Y_model_test))\n",
    "\n",
    "#Predict\n",
    "p_f_1 = emulator_f_1.predict(X_std, theta_test)\n",
    "p_f_1_mean = p_f_1.mean()\n",
    "p_f_2 = emulator_f_2.predict(X_std, theta_test)\n",
    "p_f_2_mean = p_f_2.mean()\n",
    "\n",
    "print('SSE = ', np.sum((p_f_1_mean - Y_model_test)**2))\n",
    "print('SSE = ', np.sum((p_f_2_mean - Y_model_test)**2))\n",
    "\n",
    "print('Rsq = ', 1 - np.sum(np.square(p_f_1_mean - Y_model_test))/np.sum(np.square(Y_model_test.T - np.mean(Y_model_test, axis = 1))))\n",
    "print('Rsq = ', 1 - np.sum(np.square(p_f_2_mean - Y_model_test))/np.sum(np.square(Y_model_test.T - np.mean(Y_model_test, axis = 1))))"
   ]
  },
  {
   "cell_type": "markdown",
   "metadata": {},
   "source": [
    "### Fitting a classifier"
   ]
  },
  {
   "cell_type": "code",
   "execution_count": 7,
   "metadata": {},
   "outputs": [
    {
     "name": "stdout",
     "output_type": "stream",
     "text": [
      "1.0\n",
      "[[71  0]\n",
      " [ 0 29]]\n"
     ]
    }
   ],
   "source": [
    "# Fit a classifier\n",
    "from sklearn.ensemble import RandomForestClassifier\n",
    "from sklearn.metrics import confusion_matrix\n",
    "Y_cls = np.zeros(len(theta))\n",
    "Y_cls[ys > 0.5] = 1\n",
    "clf = RandomForestClassifier(n_estimators = 100, random_state = 42)#\n",
    "clf.fit(theta, Y_cls)\n",
    "print(clf.score(theta, Y_cls))\n",
    "print(confusion_matrix(Y_cls, clf.predict(theta)))"
   ]
  },
  {
   "cell_type": "markdown",
   "metadata": {},
   "source": [
    "### Building a calibrator"
   ]
  },
  {
   "cell_type": "code",
   "execution_count": 9,
   "metadata": {},
   "outputs": [],
   "source": [
    "def plot_pred(X_std, Y, cal, theta_range):\n",
    "    \n",
    "    fig, axs = plt.subplots(1, 4, figsize=(14, 3))\n",
    "    \n",
    "    cal_theta = cal.theta.rnd(1000) \n",
    "    cal_theta = cal_theta*(theta_range[1] - theta_range[0]) + theta_range[0]  \n",
    "    axs[0].plot(cal_theta)\n",
    "    axs[1].boxplot(cal_theta)\n",
    "    axs[2].hist(cal_theta)\n",
    "    post = cal.predict(X_std)\n",
    "    rndm_m = post.rnd(s = 1000)\n",
    "    upper = np.percentile(rndm_m, 97.5, axis = 0)\n",
    "    lower = np.percentile(rndm_m, 2.5, axis = 0)\n",
    "    median = np.percentile(rndm_m, 50, axis = 0)\n",
    "    #plt.xlabel(\"height (meters)\")\n",
    "    #plt.ylabel(\"time (seconds)\")\n",
    "    axs[3].plot(median, color = 'black')\n",
    "    axs[3].fill_between(range(0, 21), lower, upper, color = 'grey')\n",
    "    axs[3].plot(range(0, 21), Y, 'ro', markersize = 5, color='red')\n",
    "    \n",
    "    plt.show()"
   ]
  },
  {
   "cell_type": "code",
   "execution_count": 10,
   "metadata": {},
   "outputs": [
    {
     "name": "stdout",
     "output_type": "stream",
     "text": [
      "n_acc rate= 0.189\n"
     ]
    },
    {
     "data": {
      "image/png": "[encoded data removed]",
      "text/plain": [
       "<Figure size 1008x216 with 4 Axes>"
      ]
     },
     "metadata": {
      "needs_background": "light"
     },
     "output_type": "display_data"
    }
   ],
   "source": [
    "# Fit a calibrator with emulator 1 (filtered & ML)\n",
    "cal_1_f = calibrator(emulator_f_1, Y, X_std, thetaprior = prior_balldrop, method = 'MLcal', yvar = obsvar, \n",
    "                   args = {'clf_method': clf,\n",
    "                           'theta0': np.array([0.4]), \n",
    "                           'numsamp' : 1000, \n",
    "                           'stepType' : 'normal', \n",
    "                           'stepParam' : [0.6]})\n",
    "\n",
    "plot_pred(X_std, Y, cal_1_f, theta_range)"
   ]
  },
  {
   "cell_type": "code",
   "execution_count": 11,
   "metadata": {},
   "outputs": [
    {
     "name": "stdout",
     "output_type": "stream",
     "text": [
      "n_acc rate= 0.424\n"
     ]
    },
    {
     "data": {
      "image/png": "[encoded data removed]",
      "text/plain": [
       "<Figure size 1008x216 with 4 Axes>"
      ]
     },
     "metadata": {
      "needs_background": "light"
     },
     "output_type": "display_data"
    }
   ],
   "source": [
    "# Fit a calibrator with emulator 1 (filtered)\n",
    "cal_2_f = calibrator(emulator_f_1, Y, X_std, thetaprior = prior_balldrop, method = 'MLcal', yvar = obsvar, \n",
    "                   args = {'theta0': np.array([0.4]), \n",
    "                           'numsamp' : 1000, \n",
    "                           'stepType' : 'normal', \n",
    "                           'stepParam' : [0.6]})\n",
    "\n",
    "plot_pred(X_std, Y, cal_2_f, theta_range)"
   ]
  },
  {
   "cell_type": "code",
   "execution_count": null,
   "metadata": {},
   "outputs": [],
   "source": []
  }
 ],
 "metadata": {
  "kernelspec": {
   "display_name": "Python 3",
   "language": "python",
   "name": "python3"
  },
  "language_info": {
   "codemirror_mode": {
    "name": "ipython",
    "version": 3
   },
   "file_extension": ".py",
   "mimetype": "text/x-python",
   "name": "python",
   "nbconvert_exporter": "python",
   "pygments_lexer": "ipython3",
   "version": "3.7.9"
  }
 },
 "nbformat": 4,
 "nbformat_minor": 4
}
