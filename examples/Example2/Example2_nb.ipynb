{
 "cells": [
  {
   "cell_type": "markdown",
   "metadata": {},
   "source": [
    "# Example 2: Falling Ball"
   ]
  },
  {
   "cell_type": "markdown",
   "metadata": {},
   "source": [
    "To illustrate how to use `calibrator` class, we will use the data set in [Example 1] of a falling ball. \n",
    "\n",
    "First, import the main libraries we use for this example."
   ]
  },
  {
   "cell_type": "code",
   "execution_count": 1,
   "metadata": {},
   "outputs": [],
   "source": [
    "import numpy as np\n",
    "import scipy.stats as sps\n",
    "import sys\n",
    "import os\n",
    "import copy\n",
    "import matplotlib.pyplot as plt \n",
    "from scipy.stats import kde\n",
    "\n",
    "current = os.path.abspath(os.getcwd())\n",
    "sys.path.append(os.path.normpath(os.path.join(os.path.dirname(current), '..')))\n",
    "from base.emulation import emulator\n",
    "from base.calibration import calibrator"
   ]
  },
  {
   "cell_type": "markdown",
   "metadata": {},
   "source": [
    "We collect the data at two different heights 25 and 50."
   ]
  },
  {
   "cell_type": "code",
   "execution_count": 2,
   "metadata": {},
   "outputs": [],
   "source": [
    "x = np.array([[ 0.1, 25. ],\n",
    "              [ 0.2, 25. ],\n",
    "              [ 0.3, 25. ],\n",
    "              [ 0.4, 25. ],\n",
    "              [ 0.5, 25. ],\n",
    "              [ 0.6, 25. ],\n",
    "              [ 0.7, 25. ],\n",
    "              [ 0.9, 25. ],\n",
    "              [ 1.1, 25. ],\n",
    "              [ 1.3, 25. ],\n",
    "              [ 2.0, 25. ],\n",
    "              [ 2.4, 25. ],\n",
    "              [ 0.1, 50. ],\n",
    "              [ 0.2, 50. ],\n",
    "              [ 0.3, 50. ],\n",
    "              [ 0.4, 50. ],\n",
    "              [ 0.5, 50. ],\n",
    "              [ 0.6, 50. ],\n",
    "              [ 0.7, 50. ],\n",
    "              [ 0.8, 50. ],\n",
    "              [ 0.9, 50. ],\n",
    "              [ 1.0, 50. ],\n",
    "              [ 1.2, 50. ],\n",
    "              [ 3.5, 50. ],\n",
    "              [ 3.7, 50. ],\n",
    "              [ 2.6, 50. ],\n",
    "              [ 2.9, 50. ],\n",
    "              [ 3.1, 50. ],\n",
    "              [ 3.3, 50. ],]).astype('object')"
   ]
  },
  {
   "cell_type": "code",
   "execution_count": 3,
   "metadata": {},
   "outputs": [],
   "source": [
    "def balldroptrue(x):\n",
    "    \"\"\"Place description here.\"\"\"\n",
    "    def logcosh(x):\n",
    "        # preventing crashing\n",
    "        s = np.sign(x) * x\n",
    "        p = np.exp(-2 * s)\n",
    "        return s + np.log1p(p) - np.log(2)\n",
    "    t = x[:, 0]\n",
    "    h0 = x[:, 1]\n",
    "    vter = 20\n",
    "    g = 9.81\n",
    "    y = h0 - (vter ** 2) / g * logcosh(g * t / vter)\n",
    "    return y"
   ]
  },
  {
   "cell_type": "code",
   "execution_count": 4,
   "metadata": {},
   "outputs": [
    {
     "name": "stdout",
     "output_type": "stream",
     "text": [
      "(29,)\n"
     ]
    }
   ],
   "source": [
    "xv = x.astype('float')\n",
    "\n",
    "# variance for the observations in 'y' below\n",
    "obsvar = 4*np.ones(x.shape[0])  \n",
    "\n",
    "#observations at each row of 'x'\n",
    "y = balldroptrue(xv) + sps.norm.rvs(0, np.sqrt(obsvar)) \n",
    "\n",
    "print(np.shape(y))\n",
    "\n",
    "x[x[:,1] == 25, 1] = 'lowdrop'\n",
    "x[x[:,1] == 50, 1] = 'highdrop'"
   ]
  },
  {
   "cell_type": "markdown",
   "metadata": {},
   "source": [
    "## Building an emulator"
   ]
  },
  {
   "cell_type": "markdown",
   "metadata": {},
   "source": [
    "Recall the computer model experiments and the prior distributions from [Example 1]."
   ]
  },
  {
   "cell_type": "code",
   "execution_count": 5,
   "metadata": {},
   "outputs": [],
   "source": [
    "def balldropmodel_linear(x, theta):\n",
    "    \"\"\"Place description here.\"\"\"\n",
    "    f = np.zeros((theta.shape[0], x.shape[0]))\n",
    "    for k in range(0, theta.shape[0]):\n",
    "        t = x[:, 0]\n",
    "        h0 = x[:, 1] + theta[k, 0]\n",
    "        vter = theta[k, 1]\n",
    "        f[k, :] = h0 - vter * t\n",
    "    return f.T\n",
    "\n",
    "def balldropmodel_grav(x, theta):\n",
    "    \"\"\"Place description here.\"\"\"\n",
    "    f = np.zeros((theta.shape[0], x.shape[0]))\n",
    "    for k in range(0, theta.shape[0]):\n",
    "        t = x[:, 0]\n",
    "        h0 = x[:, 1]\n",
    "        g = theta[k]\n",
    "        f[k, :] = h0 - (g / 2) * (t ** 2)\n",
    "    return f.T\n",
    "\n",
    "class priorphys_lin:\n",
    "    \"\"\" This defines the class instance of priors provided to the method. \"\"\"\n",
    "    def lpdf(theta):\n",
    "        return np.squeeze(sps.norm.logpdf(theta[:, 0], 0, 5) +  # initial height deviation\n",
    "                          sps.gamma.logpdf(theta[:, 1], 2, 0, 10))   # terminal velocity\n",
    "\n",
    "    def rnd(n):\n",
    "        return np.vstack((sps.norm.rvs(0, 5, size=n),  # initial height deviation\n",
    "                          sps.gamma.rvs(2, 0, 10, size=n))).T  # terminal velocity\n",
    "\n",
    "class priorphys_grav:\n",
    "    \"\"\" This defines the class instance of priors provided to the method. \"\"\"\n",
    "    def lpdf(theta):\n",
    "        return np.squeeze(sps.gamma.logpdf(theta, 2, 0, 5))  # gravity\n",
    "\n",
    "    def rnd(n):\n",
    "        return np.reshape(sps.gamma.rvs(2, 0, 5, size=n), (-1,1))  # gravity"
   ]
  },
  {
   "cell_type": "code",
   "execution_count": 6,
   "metadata": {},
   "outputs": [],
   "source": [
    " # the time vector of interest\n",
    "tvec = np.concatenate((np.arange(0.1, 4.3, 0.1), np.arange(0.1, 4.3, 0.1))) \n",
    "\n",
    "# the drop heights vector of interest\n",
    "hvec = np.concatenate((25 * np.ones(42), 50 * np.ones(42)))  \n",
    "\n",
    "# the input of interest\n",
    "xtot = (np.vstack((tvec, hvec)).T).astype('object')  \n",
    "xtotv = xtot.astype('float')\n",
    "xtot[xtot[:,1] == 25, 1] = 'lowdrop'\n",
    "xtot[xtot[:,1] == 50, 1] = 'highdrop'\n",
    "\n",
    "# draw 50 random parameters from the prior\n",
    "thetacompexp_lin = priorphys_lin.rnd(50) \n",
    "\n",
    "# draw 50 random parameters from the prior\n",
    "thetacompexp_grav = priorphys_grav.rnd(50)  \n",
    "\n",
    "# create a computer experiment to build an emulator for the linear simulation\n",
    "lin_results = balldropmodel_linear(xtotv, thetacompexp_lin)\n",
    "\n",
    "# create a computer experiment to build an emulator for the gravity simulation\n",
    "grav_results = balldropmodel_grav(xtotv, thetacompexp_grav)  \n",
    "\n",
    "# build an emulator for the linear simulation\n",
    "emu_lin = emulator(xtot, thetacompexp_lin, lin_results, method = 'PCGPwM') \n",
    "\n",
    "# build an emulator for the gravity simulation\n",
    "emu_grav = emulator(xtot, thetacompexp_grav, grav_results, method = 'PCGPwM')  "
   ]
  },
  {
   "cell_type": "markdown",
   "metadata": {},
   "source": [
    "## Building a calibrator"
   ]
  },
  {
   "cell_type": "markdown",
   "metadata": {},
   "source": [
    "### Calibrators for a linear model"
   ]
  },
  {
   "cell_type": "code",
   "execution_count": 7,
   "metadata": {},
   "outputs": [
    {
     "name": "stdout",
     "output_type": "stream",
     "text": [
      "We have received some non-finite values from emulation.\n",
      "It looks like some locations are ok.\n",
      "Current protocol is to remove observations that have nonfinite values.\n",
      "Removing values at [ 2  6  9 11 14 18 22 23 26 28].\n"
     ]
    },
    {
     "ename": "ValueError",
     "evalue": "operands could not be broadcast together with shapes (19,) (84,) ",
     "output_type": "error",
     "traceback": [
      "\u001b[0;31m---------------------------------------------------------------------------\u001b[0m",
      "\u001b[0;31mValueError\u001b[0m                                Traceback (most recent call last)",
      "\u001b[0;32m<ipython-input-7-8c18bbd8ab4b>\u001b[0m in \u001b[0;36m<module>\u001b[0;34m\u001b[0m\n\u001b[1;32m      1\u001b[0m cal_lin = calibrator(emu_lin, y, x, thetaprior = priorphys_lin, \n\u001b[1;32m      2\u001b[0m                      \u001b[0mmethod\u001b[0m \u001b[0;34m=\u001b[0m \u001b[0;34m'directbayes'\u001b[0m\u001b[0;34m,\u001b[0m\u001b[0;34m\u001b[0m\u001b[0;34m\u001b[0m\u001b[0m\n\u001b[0;32m----> 3\u001b[0;31m                      yvar = obsvar)\n\u001b[0m",
      "\u001b[0;32m~/Desktop/GitHub_Folders/ModCal/base/calibration.py\u001b[0m in \u001b[0;36m__init__\u001b[0;34m(self, emu, y, x, thetaprior, yvar, method, args)\u001b[0m\n\u001b[1;32m    120\u001b[0m             \u001b[0;32mraise\u001b[0m \u001b[0mValueError\u001b[0m\u001b[0;34m(\u001b[0m\u001b[0;34m'Module not found!'\u001b[0m\u001b[0;34m)\u001b[0m\u001b[0;34m\u001b[0m\u001b[0;34m\u001b[0m\u001b[0m\n\u001b[1;32m    121\u001b[0m \u001b[0;34m\u001b[0m\u001b[0m\n\u001b[0;32m--> 122\u001b[0;31m         \u001b[0mself\u001b[0m\u001b[0;34m.\u001b[0m\u001b[0mfit\u001b[0m\u001b[0;34m(\u001b[0m\u001b[0;34m)\u001b[0m\u001b[0;34m\u001b[0m\u001b[0;34m\u001b[0m\u001b[0m\n\u001b[0m\u001b[1;32m    123\u001b[0m \u001b[0;34m\u001b[0m\u001b[0m\n\u001b[1;32m    124\u001b[0m     \u001b[0;32mdef\u001b[0m \u001b[0m__repr__\u001b[0m\u001b[0;34m(\u001b[0m\u001b[0mself\u001b[0m\u001b[0;34m)\u001b[0m\u001b[0;34m:\u001b[0m\u001b[0;34m\u001b[0m\u001b[0;34m\u001b[0m\u001b[0m\n",
      "\u001b[0;32m~/Desktop/GitHub_Folders/ModCal/base/calibration.py\u001b[0m in \u001b[0;36mfit\u001b[0;34m(self, args)\u001b[0m\n\u001b[1;32m    152\u001b[0m         \u001b[0;32mif\u001b[0m \u001b[0margs\u001b[0m \u001b[0;32mis\u001b[0m \u001b[0;32mNone\u001b[0m\u001b[0;34m:\u001b[0m\u001b[0;34m\u001b[0m\u001b[0;34m\u001b[0m\u001b[0m\n\u001b[1;32m    153\u001b[0m             \u001b[0margs\u001b[0m \u001b[0;34m=\u001b[0m \u001b[0mself\u001b[0m\u001b[0;34m.\u001b[0m\u001b[0margs\u001b[0m\u001b[0;34m\u001b[0m\u001b[0;34m\u001b[0m\u001b[0m\n\u001b[0;32m--> 154\u001b[0;31m         \u001b[0mself\u001b[0m\u001b[0;34m.\u001b[0m\u001b[0mmethod\u001b[0m\u001b[0;34m.\u001b[0m\u001b[0mfit\u001b[0m\u001b[0;34m(\u001b[0m\u001b[0mself\u001b[0m\u001b[0;34m.\u001b[0m\u001b[0minfo\u001b[0m\u001b[0;34m,\u001b[0m \u001b[0mself\u001b[0m\u001b[0;34m.\u001b[0m\u001b[0memu\u001b[0m\u001b[0;34m,\u001b[0m \u001b[0mself\u001b[0m\u001b[0;34m.\u001b[0m\u001b[0mx\u001b[0m\u001b[0;34m,\u001b[0m \u001b[0mself\u001b[0m\u001b[0;34m.\u001b[0m\u001b[0my\u001b[0m\u001b[0;34m,\u001b[0m \u001b[0margs\u001b[0m\u001b[0;34m)\u001b[0m\u001b[0;34m\u001b[0m\u001b[0;34m\u001b[0m\u001b[0m\n\u001b[0m\u001b[1;32m    155\u001b[0m         \u001b[0;32mif\u001b[0m \u001b[0mhasattr\u001b[0m\u001b[0;34m(\u001b[0m\u001b[0mself\u001b[0m\u001b[0;34m,\u001b[0m \u001b[0;34m'theta'\u001b[0m\u001b[0;34m)\u001b[0m\u001b[0;34m:\u001b[0m\u001b[0;34m\u001b[0m\u001b[0;34m\u001b[0m\u001b[0m\n\u001b[1;32m    156\u001b[0m             \u001b[0;32mdel\u001b[0m \u001b[0mself\u001b[0m\u001b[0;34m.\u001b[0m\u001b[0mtheta\u001b[0m\u001b[0;34m\u001b[0m\u001b[0;34m\u001b[0m\u001b[0m\n",
      "\u001b[0;32m~/Desktop/GitHub_Folders/ModCal/base/calibrationmethods/directbayes.py\u001b[0m in \u001b[0;36mfit\u001b[0;34m(fitinfo, emu, x, y, args)\u001b[0m\n\u001b[1;32m    120\u001b[0m     \u001b[0;32mif\u001b[0m \u001b[0;34m'_emulator__theta'\u001b[0m \u001b[0;32min\u001b[0m \u001b[0mdir\u001b[0m\u001b[0;34m(\u001b[0m\u001b[0memu\u001b[0m\u001b[0;34m)\u001b[0m\u001b[0;34m:\u001b[0m\u001b[0;34m\u001b[0m\u001b[0;34m\u001b[0m\u001b[0m\n\u001b[1;32m    121\u001b[0m         \u001b[0mtheta\u001b[0m \u001b[0;34m=\u001b[0m \u001b[0mnp\u001b[0m\u001b[0;34m.\u001b[0m\u001b[0mvstack\u001b[0m\u001b[0;34m(\u001b[0m\u001b[0;34m(\u001b[0m\u001b[0mtheta\u001b[0m\u001b[0;34m,\u001b[0m\u001b[0mcopy\u001b[0m\u001b[0;34m.\u001b[0m\u001b[0mcopy\u001b[0m\u001b[0;34m(\u001b[0m\u001b[0memu\u001b[0m\u001b[0;34m.\u001b[0m\u001b[0m_emulator__theta\u001b[0m\u001b[0;34m)\u001b[0m\u001b[0;34m)\u001b[0m\u001b[0;34m)\u001b[0m\u001b[0;34m\u001b[0m\u001b[0;34m\u001b[0m\u001b[0m\n\u001b[0;32m--> 122\u001b[0;31m     \u001b[0mtheta\u001b[0m \u001b[0;34m=\u001b[0m \u001b[0mpostsampler\u001b[0m\u001b[0;34m(\u001b[0m\u001b[0mtheta\u001b[0m\u001b[0;34m,\u001b[0m \u001b[0mlogpostfull_wgrad\u001b[0m\u001b[0;34m,\u001b[0m \u001b[0moptions\u001b[0m\u001b[0;34m=\u001b[0m\u001b[0;34m{\u001b[0m\u001b[0;34m'sampler'\u001b[0m\u001b[0;34m:\u001b[0m \u001b[0;34m'plumlee'\u001b[0m\u001b[0;34m}\u001b[0m\u001b[0;34m)\u001b[0m\u001b[0;34m\u001b[0m\u001b[0;34m\u001b[0m\u001b[0m\n\u001b[0m\u001b[1;32m    123\u001b[0m     \u001b[0mladj\u001b[0m \u001b[0;34m=\u001b[0m \u001b[0mlogpostfull_wgrad\u001b[0m\u001b[0;34m(\u001b[0m\u001b[0mtheta\u001b[0m\u001b[0;34m,\u001b[0m \u001b[0mreturn_grad\u001b[0m \u001b[0;34m=\u001b[0m \u001b[0;32mFalse\u001b[0m\u001b[0;34m)\u001b[0m\u001b[0;34m\u001b[0m\u001b[0;34m\u001b[0m\u001b[0m\n\u001b[1;32m    124\u001b[0m     \u001b[0mmladj\u001b[0m \u001b[0;34m=\u001b[0m \u001b[0mnp\u001b[0m\u001b[0;34m.\u001b[0m\u001b[0mmax\u001b[0m\u001b[0;34m(\u001b[0m\u001b[0mladj\u001b[0m\u001b[0;34m)\u001b[0m\u001b[0;34m\u001b[0m\u001b[0;34m\u001b[0m\u001b[0m\n",
      "\u001b[0;32m~/Desktop/GitHub_Folders/ModCal/base/utilities.py\u001b[0m in \u001b[0;36mpostsampler\u001b[0;34m(thetastart, logpostfunc, options)\u001b[0m\n\u001b[1;32m     37\u001b[0m         \u001b[0;32melse\u001b[0m\u001b[0;34m:\u001b[0m\u001b[0;34m\u001b[0m\u001b[0;34m\u001b[0m\u001b[0m\n\u001b[1;32m     38\u001b[0m             \u001b[0;32mreturn\u001b[0m \u001b[0mmetropolis_hastings\u001b[0m\u001b[0;34m(\u001b[0m\u001b[0mlogpostfunc\u001b[0m\u001b[0;34m,\u001b[0m \u001b[0moptions\u001b[0m\u001b[0;34m)\u001b[0m\u001b[0;34m\u001b[0m\u001b[0;34m\u001b[0m\u001b[0m\n\u001b[0;32m---> 39\u001b[0;31m     \u001b[0;32mreturn\u001b[0m \u001b[0mpostsamplefunc\u001b[0m\u001b[0;34m(\u001b[0m\u001b[0mthetastart\u001b[0m\u001b[0;34m,\u001b[0m \u001b[0mlogpostfunc\u001b[0m\u001b[0;34m)\u001b[0m\u001b[0;34m\u001b[0m\u001b[0;34m\u001b[0m\u001b[0m\n\u001b[0m",
      "\u001b[0;32m~/Desktop/GitHub_Folders/ModCal/base/utilities.py\u001b[0m in \u001b[0;36mpostsamplefunc\u001b[0;34m(thetastart, logpostfunc)\u001b[0m\n\u001b[1;32m     34\u001b[0m         \u001b[0;32mif\u001b[0m \u001b[0msampler\u001b[0m \u001b[0;34m==\u001b[0m \u001b[0;34m'plumlee'\u001b[0m\u001b[0;34m:\u001b[0m\u001b[0;34m\u001b[0m\u001b[0;34m\u001b[0m\u001b[0m\n\u001b[1;32m     35\u001b[0m             \u001b[0mtarESS\u001b[0m \u001b[0;34m=\u001b[0m \u001b[0mnp\u001b[0m\u001b[0;34m.\u001b[0m\u001b[0mmax\u001b[0m\u001b[0;34m(\u001b[0m\u001b[0;34m(\u001b[0m\u001b[0;36m150\u001b[0m\u001b[0;34m,\u001b[0m \u001b[0;36m10\u001b[0m \u001b[0;34m*\u001b[0m \u001b[0mthetastart\u001b[0m\u001b[0;34m.\u001b[0m\u001b[0mshape\u001b[0m\u001b[0;34m[\u001b[0m\u001b[0;36m1\u001b[0m\u001b[0;34m]\u001b[0m\u001b[0;34m)\u001b[0m\u001b[0;34m)\u001b[0m\u001b[0;34m\u001b[0m\u001b[0;34m\u001b[0m\u001b[0m\n\u001b[0;32m---> 36\u001b[0;31m             \u001b[0;32mreturn\u001b[0m \u001b[0mplumleepostsampler_wgrad\u001b[0m\u001b[0;34m(\u001b[0m\u001b[0mthetastart\u001b[0m\u001b[0;34m,\u001b[0m \u001b[0mlogpostfunc\u001b[0m\u001b[0;34m,\u001b[0m \u001b[0mnumsamp\u001b[0m\u001b[0;34m,\u001b[0m \u001b[0mtarESS\u001b[0m\u001b[0;34m)\u001b[0m\u001b[0;34m\u001b[0m\u001b[0;34m\u001b[0m\u001b[0m\n\u001b[0m\u001b[1;32m     37\u001b[0m         \u001b[0;32melse\u001b[0m\u001b[0;34m:\u001b[0m\u001b[0;34m\u001b[0m\u001b[0;34m\u001b[0m\u001b[0m\n\u001b[1;32m     38\u001b[0m             \u001b[0;32mreturn\u001b[0m \u001b[0mmetropolis_hastings\u001b[0m\u001b[0;34m(\u001b[0m\u001b[0mlogpostfunc\u001b[0m\u001b[0;34m,\u001b[0m \u001b[0moptions\u001b[0m\u001b[0;34m)\u001b[0m\u001b[0;34m\u001b[0m\u001b[0;34m\u001b[0m\u001b[0m\n",
      "\u001b[0;32m~/Desktop/GitHub_Folders/ModCal/base/utilitiesmethods/plumleeMCMC_wgrad.py\u001b[0m in \u001b[0;36mplumleepostsampler_wgrad\u001b[0;34m(thetastart, logpostfunc, numsamp, tarESS)\u001b[0m\n\u001b[1;32m     25\u001b[0m     \u001b[0mtheta\u001b[0m \u001b[0;34m:\u001b[0m \u001b[0mmatrix\u001b[0m \u001b[0mof\u001b[0m \u001b[0msampled\u001b[0m \u001b[0mparamter\u001b[0m \u001b[0mvalues\u001b[0m\u001b[0;34m\u001b[0m\u001b[0;34m\u001b[0m\u001b[0m\n\u001b[1;32m     26\u001b[0m     \"\"\"\n\u001b[0;32m---> 27\u001b[0;31m     \u001b[0mtestout\u001b[0m \u001b[0;34m=\u001b[0m \u001b[0mlogpostfunc\u001b[0m\u001b[0;34m(\u001b[0m\u001b[0mthetastart\u001b[0m\u001b[0;34m[\u001b[0m\u001b[0;36m0\u001b[0m\u001b[0;34m:\u001b[0m\u001b[0;36m2\u001b[0m\u001b[0;34m,\u001b[0m\u001b[0;34m:\u001b[0m\u001b[0;34m]\u001b[0m\u001b[0;34m)\u001b[0m\u001b[0;34m\u001b[0m\u001b[0;34m\u001b[0m\u001b[0m\n\u001b[0m\u001b[1;32m     28\u001b[0m     \u001b[0;32mif\u001b[0m \u001b[0mtype\u001b[0m\u001b[0;34m(\u001b[0m\u001b[0mtestout\u001b[0m\u001b[0;34m)\u001b[0m \u001b[0;32mis\u001b[0m \u001b[0mtuple\u001b[0m\u001b[0;34m:\u001b[0m\u001b[0;34m\u001b[0m\u001b[0;34m\u001b[0m\u001b[0m\n\u001b[1;32m     29\u001b[0m         \u001b[0;32mif\u001b[0m \u001b[0mlen\u001b[0m\u001b[0;34m(\u001b[0m\u001b[0mtestout\u001b[0m\u001b[0;34m)\u001b[0m \u001b[0;32mis\u001b[0m \u001b[0;32mnot\u001b[0m \u001b[0;36m2\u001b[0m\u001b[0;34m:\u001b[0m\u001b[0;34m\u001b[0m\u001b[0;34m\u001b[0m\u001b[0m\n",
      "\u001b[0;32m~/Desktop/GitHub_Folders/ModCal/base/calibrationmethods/directbayes.py\u001b[0m in \u001b[0;36mlogpostfull_wgrad\u001b[0;34m(theta, return_grad)\u001b[0m\n\u001b[1;32m     88\u001b[0m             \u001b[0minds\u001b[0m \u001b[0;34m=\u001b[0m \u001b[0mnp\u001b[0m\u001b[0;34m.\u001b[0m\u001b[0mwhere\u001b[0m\u001b[0;34m(\u001b[0m\u001b[0mnp\u001b[0m\u001b[0;34m.\u001b[0m\u001b[0misfinite\u001b[0m\u001b[0;34m(\u001b[0m\u001b[0mlogpost\u001b[0m\u001b[0;34m)\u001b[0m\u001b[0;34m)\u001b[0m\u001b[0;34m[\u001b[0m\u001b[0;36m0\u001b[0m\u001b[0;34m]\u001b[0m\u001b[0;34m\u001b[0m\u001b[0;34m\u001b[0m\u001b[0m\n\u001b[1;32m     89\u001b[0m             \u001b[0;32mif\u001b[0m \u001b[0memureturn_grad\u001b[0m \u001b[0;32mand\u001b[0m \u001b[0mreturn_grad\u001b[0m\u001b[0;34m:\u001b[0m\u001b[0;34m\u001b[0m\u001b[0;34m\u001b[0m\u001b[0m\n\u001b[0;32m---> 90\u001b[0;31m                 \u001b[0mloglikinds\u001b[0m\u001b[0;34m,\u001b[0m \u001b[0mdloglikinds\u001b[0m \u001b[0;34m=\u001b[0m \u001b[0mloglik_grad\u001b[0m\u001b[0;34m(\u001b[0m\u001b[0mfitinfo\u001b[0m\u001b[0;34m,\u001b[0m \u001b[0memu\u001b[0m\u001b[0;34m,\u001b[0m \u001b[0mtheta\u001b[0m\u001b[0;34m[\u001b[0m\u001b[0minds\u001b[0m\u001b[0;34m]\u001b[0m\u001b[0;34m,\u001b[0m \u001b[0my\u001b[0m\u001b[0;34m,\u001b[0m \u001b[0mx\u001b[0m\u001b[0;34m,\u001b[0m \u001b[0margs\u001b[0m\u001b[0;34m)\u001b[0m\u001b[0;34m\u001b[0m\u001b[0;34m\u001b[0m\u001b[0m\n\u001b[0m\u001b[1;32m     91\u001b[0m                 \u001b[0mlogpost\u001b[0m\u001b[0;34m[\u001b[0m\u001b[0minds\u001b[0m\u001b[0;34m]\u001b[0m \u001b[0;34m+=\u001b[0m \u001b[0mloglikinds\u001b[0m\u001b[0;34m\u001b[0m\u001b[0;34m\u001b[0m\u001b[0m\n\u001b[1;32m     92\u001b[0m                 \u001b[0mdlogpost\u001b[0m\u001b[0;34m[\u001b[0m\u001b[0minds\u001b[0m\u001b[0;34m]\u001b[0m \u001b[0;34m+=\u001b[0m \u001b[0mdloglikinds\u001b[0m\u001b[0;34m\u001b[0m\u001b[0;34m\u001b[0m\u001b[0m\n",
      "\u001b[0;32m~/Desktop/GitHub_Folders/ModCal/base/calibrationmethods/directbayes.py\u001b[0m in \u001b[0;36mloglik_grad\u001b[0;34m(fitinfo, emu, theta, y, x, args)\u001b[0m\n\u001b[1;32m    364\u001b[0m     \u001b[0mdterm3\u001b[0m \u001b[0;34m=\u001b[0m \u001b[0mnp\u001b[0m\u001b[0;34m.\u001b[0m\u001b[0mzeros\u001b[0m\u001b[0;34m(\u001b[0m\u001b[0memu\u001b[0m\u001b[0;34m.\u001b[0m\u001b[0m_info\u001b[0m\u001b[0;34m[\u001b[0m\u001b[0;34m'theta'\u001b[0m\u001b[0;34m]\u001b[0m\u001b[0;34m.\u001b[0m\u001b[0mshape\u001b[0m\u001b[0;34m[\u001b[0m\u001b[0;36m1\u001b[0m\u001b[0;34m]\u001b[0m\u001b[0;34m)\u001b[0m\u001b[0;34m\u001b[0m\u001b[0;34m\u001b[0m\u001b[0m\n\u001b[1;32m    365\u001b[0m     \u001b[0;32mif\u001b[0m \u001b[0;34m'_info'\u001b[0m \u001b[0;32min\u001b[0m \u001b[0mdir\u001b[0m\u001b[0;34m(\u001b[0m\u001b[0memu\u001b[0m\u001b[0;34m)\u001b[0m \u001b[0;32mand\u001b[0m \u001b[0;34m'extravar'\u001b[0m \u001b[0;32min\u001b[0m \u001b[0memu\u001b[0m\u001b[0;34m.\u001b[0m\u001b[0m_info\u001b[0m\u001b[0;34m:\u001b[0m\u001b[0;34m\u001b[0m\u001b[0;34m\u001b[0m\u001b[0m\n\u001b[0;32m--> 366\u001b[0;31m         \u001b[0mobsvar\u001b[0m \u001b[0;34m=\u001b[0m \u001b[0mobsvar\u001b[0m \u001b[0;34m+\u001b[0m \u001b[0memu\u001b[0m\u001b[0;34m.\u001b[0m\u001b[0m_info\u001b[0m\u001b[0;34m[\u001b[0m\u001b[0;34m'extravar'\u001b[0m\u001b[0;34m]\u001b[0m\u001b[0;34m\u001b[0m\u001b[0;34m\u001b[0m\u001b[0m\n\u001b[0m\u001b[1;32m    367\u001b[0m     \u001b[0;32mfor\u001b[0m \u001b[0mk\u001b[0m \u001b[0;32min\u001b[0m \u001b[0mrange\u001b[0m\u001b[0;34m(\u001b[0m\u001b[0;36m0\u001b[0m\u001b[0;34m,\u001b[0m \u001b[0memumean\u001b[0m\u001b[0;34m.\u001b[0m\u001b[0mshape\u001b[0m\u001b[0;34m[\u001b[0m\u001b[0;36m1\u001b[0m\u001b[0;34m]\u001b[0m\u001b[0;34m)\u001b[0m\u001b[0;34m:\u001b[0m\u001b[0;34m\u001b[0m\u001b[0;34m\u001b[0m\u001b[0m\n\u001b[1;32m    368\u001b[0m         \u001b[0mm0\u001b[0m \u001b[0;34m=\u001b[0m \u001b[0memumean\u001b[0m\u001b[0;34m[\u001b[0m\u001b[0;34m:\u001b[0m\u001b[0;34m,\u001b[0m\u001b[0mk\u001b[0m\u001b[0;34m]\u001b[0m\u001b[0;34m\u001b[0m\u001b[0;34m\u001b[0m\u001b[0m\n",
      "\u001b[0;31mValueError\u001b[0m: operands could not be broadcast together with shapes (19,) (84,) "
     ]
    }
   ],
   "source": [
    "cal_lin = calibrator(emu_lin, y, x, thetaprior = priorphys_lin, \n",
    "                     method = 'directbayes', \n",
    "                     yvar = obsvar)"
   ]
  },
  {
   "cell_type": "code",
   "execution_count": 7,
   "metadata": {},
   "outputs": [
    {
     "name": "stdout",
     "output_type": "stream",
     "text": [
      "We have received some non-finite values from emulation.\n",
      "It looks like some locations are ok.\n",
      "Current protocol is to remove observations that have nonfinite values.\n",
      "Removing values at [ 2  6  9 11 14 18 22 23 26 28].\n",
      "n_acc rate= 0.336\n"
     ]
    }
   ],
   "source": [
    "cal_lin_1 = calibrator(emu = emu_lin, y = y, x = x, thetaprior = priorphys_lin, \n",
    "                       method = 'MLcal', yvar = obsvar, \n",
    "                       args = {'theta0': np.array([0, 9]), \n",
    "                               'numsamp' : 1000, \n",
    "                               'stepType' : 'normal', \n",
    "                               'stepParam' : np.array([0.1, 1])})\n",
    "                   "
   ]
  },
  {
   "cell_type": "markdown",
   "metadata": {},
   "source": [
    "Now, we build a calibrator using a different sampler `plumlee`."
   ]
  },
  {
   "cell_type": "code",
   "execution_count": 8,
   "metadata": {},
   "outputs": [
    {
     "name": "stdout",
     "output_type": "stream",
     "text": [
      "We have received some non-finite values from emulation.\n",
      "It looks like some locations are ok.\n",
      "Current protocol is to remove observations that have nonfinite values.\n",
      "Removing values at [ 2  6  9 11 14 18 22 23 26 28].\n"
     ]
    }
   ],
   "source": [
    "cal_lin_2 = calibrator(emu = emu_lin, y = y, x = x, thetaprior = priorphys_lin, \n",
    "                       method = 'MLcal', yvar = obsvar, \n",
    "                       args = {'sampler' : 'plumlee'})"
   ]
  },
  {
   "cell_type": "code",
   "execution_count": 9,
   "metadata": {},
   "outputs": [],
   "source": [
    "# get a prediction object\n",
    "pred_lin_1 = cal_lin_1.predict(xtot)\n",
    "pred_lin_2 = cal_lin_2.predict(xtot)"
   ]
  },
  {
   "cell_type": "code",
   "execution_count": null,
   "metadata": {},
   "outputs": [],
   "source": [
    "def two2d(axis, theta):\n",
    "    nbins = 50\n",
    "    k = kde.gaussian_kde(theta.T)\n",
    "    xi, yi = np.mgrid[-10:10:nbins*1j, 0:20:nbins*1j]\n",
    "    zi = k(np.vstack([xi.flatten(), yi.flatten()]))\n",
    "    axis.pcolormesh(xi, yi, zi.reshape(xi.shape), shading='gouraud', cmap=plt.cm.BuGn_r)\n",
    "    axis.contour(xi, yi, zi.reshape(xi.shape))"
   ]
  },
  {
   "cell_type": "code",
   "execution_count": 10,
   "metadata": {},
   "outputs": [],
   "source": [
    "def plotpreds(axis, pred):\n",
    "    preds = pred.rnd(1000)\n",
    "    for k in (25,50):\n",
    "        inds = np.where(xtotv[:,1] == k)[0]\n",
    "        for l in range(0,1000):\n",
    "            axis.plot(xtotv[inds,0],preds[l, inds],'k-', alpha=0.01,linewidth=0.1)\n",
    "        uppercurve = np.quantile(preds[:, inds],0.975,0)\n",
    "        lowercurve = np.quantile(preds[:, inds],0.025,0)\n",
    "        p4 = axis.plot(xtotv[inds,0], balldroptrue(xtotv[inds,:]), 'k--',linewidth=2)\n",
    "        axis.fill_between(xtotv[inds,0], lowercurve, uppercurve, color='k', alpha=0.25)\n",
    "    p1 = axis.plot(np.NaN, np.NaN, color='k', linewidth=3)\n",
    "    p2 = axis.fill(np.NaN, np.NaN, 'k', alpha=0.5)\n",
    "    p3 = axis.plot(xv,y, 'ro' ,markersize = 8)\n",
    "    axis.set_xlim([0,4.2])\n",
    "    axis.set_ylim([-5,55])\n",
    "    axis.set_xlabel('time')\n",
    "    axis.set_ylabel('distance')\n",
    "    axis.legend([p4[0],(p2[0], p1[0]), p3[0]], ['truth','prediction','observations'])"
   ]
  },
  {
   "cell_type": "code",
   "execution_count": 11,
   "metadata": {},
   "outputs": [
    {
     "data": {
      "text/plain": [
       "Text(0.5, 1.0, 'prediction using gravity model')"
      ]
     },
     "execution_count": 11,
     "metadata": {},
     "output_type": "execute_result"
    },
    {
     "data": {
      "image/png": "[encoded data removed]",
      "text/plain": [
       "<Figure size 720x360 with 2 Axes>"
      ]
     },
     "metadata": {
      "needs_background": "light"
     },
     "output_type": "display_data"
    }
   ],
   "source": [
    "fig, axes = plt.subplots(ncols=2, nrows=1, figsize=(10, 5))\n",
    "plotpreds(axes[0], pred_lin_1)\n",
    "axes[0].set_title('prediction using linear model')\n",
    "plotpreds(axes[1], pred_lin_2)\n",
    "axes[1].set_title('prediction using gravity model')"
   ]
  },
  {
   "cell_type": "code",
   "execution_count": null,
   "metadata": {},
   "outputs": [],
   "source": []
  }
 ],
 "metadata": {
  "kernelspec": {
   "display_name": "Python 3",
   "language": "python",
   "name": "python3"
  },
  "language_info": {
   "codemirror_mode": {
    "name": "ipython",
    "version": 3
   },
   "file_extension": ".py",
   "mimetype": "text/x-python",
   "name": "python",
   "nbconvert_exporter": "python",
   "pygments_lexer": "ipython3",
   "version": "3.7.9"
  }
 },
 "nbformat": 4,
 "nbformat_minor": 2
}
