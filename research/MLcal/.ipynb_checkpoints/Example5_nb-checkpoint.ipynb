{
 "cells": [
  {
   "cell_type": "markdown",
   "metadata": {},
   "source": [
    "# Example 5: ML adjusted calibrator"
   ]
  },
  {
   "cell_type": "code",
   "execution_count": null,
   "metadata": {},
   "outputs": [],
   "source": [
    "### Filtering data"
   ]
  },
  {
   "cell_type": "code",
   "execution_count": null,
   "metadata": {},
   "outputs": [],
   "source": [
    "# Filter out the data\n",
    "ys = 1 - np.sum((Y_model - Y)**2, 0)/np.sum((Y - np.mean(Y))**2, 0)\n",
    "theta_f = theta[ys > 0.5]\n",
    "print(theta_f.shape)"
   ]
  },
  {
   "cell_type": "code",
   "execution_count": null,
   "metadata": {},
   "outputs": [],
   "source": [
    "# Obtain computer model output via filtered data\n",
    "Y_model = timedrop(X_std, theta_f, height_range, theta_range)\n",
    "print(np.shape(Y_model))"
   ]
  },
  {
   "cell_type": "code",
   "execution_count": null,
   "metadata": {},
   "outputs": [],
   "source": [
    "### Fitting emulators via filtered data"
   ]
  },
  {
   "cell_type": "code",
   "execution_count": null,
   "metadata": {},
   "outputs": [],
   "source": [
    "# Fit an emulator via filtered data\n",
    "emulator_f_1 = emulator(X_std, theta_f, Y_model, method = 'PCGPwM')\n",
    "# Fit an emulator via filtered data\n",
    "emulator_f_2 = emulator(X_std, theta_f, Y_model, method = 'PCGP_ozge', args = {'is_pca': True})"
   ]
  },
  {
   "cell_type": "code",
   "execution_count": null,
   "metadata": {},
   "outputs": [],
   "source": [
    "#Generate random reasonable theta values\n",
    "theta_test = np.random.random(1000).reshape((1000, 1))\n",
    "theta_test = theta_test[(theta_test > 0.2) & (theta_test < 0.5)]\n",
    "theta_test = theta_test.reshape(len(theta_test), 1)\n",
    "theta_range = np.array([1, 30])\n",
    "print(np.shape(theta_test))\n",
    "\n",
    "# Obtain computer model output\n",
    "Y_model_test = timedrop(X_std, theta_test, height_range, theta_range)\n",
    "print(np.shape(Y_model_test))\n",
    "\n",
    "#Predict\n",
    "p_1 = emulator_1.predict(X_std, theta_test)\n",
    "p_1_mean = p_1.mean()\n",
    "p_2 = emulator_2.predict(X_std, theta_test)\n",
    "p_2_mean = p_2.mean()\n",
    "p_f_1 = emulator_f_1.predict(X_std, theta_test)\n",
    "p_f_1_mean = p_f_1.mean()\n",
    "p_f_2 = emulator_f_2.predict(X_std, theta_test)\n",
    "p_f_2_mean = p_2.mean()"
   ]
  }
 ],
 "metadata": {
  "kernelspec": {
   "display_name": "Python 3",
   "language": "python",
   "name": "python3"
  },
  "language_info": {
   "codemirror_mode": {
    "name": "ipython",
    "version": 3
   },
   "file_extension": ".py",
   "mimetype": "text/x-python",
   "name": "python",
   "nbconvert_exporter": "python",
   "pygments_lexer": "ipython3",
   "version": "3.7.9"
  }
 },
 "nbformat": 4,
 "nbformat_minor": 4
}
